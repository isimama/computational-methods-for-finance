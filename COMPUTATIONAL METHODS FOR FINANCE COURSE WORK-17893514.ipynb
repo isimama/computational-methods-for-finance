{
 "cells": [
  {
   "cell_type": "markdown",
   "metadata": {},
   "source": [
    "<h4>Importing Modules</h4>"
   ]
  },
  {
   "cell_type": "code",
   "execution_count": 1,
   "metadata": {},
   "outputs": [],
   "source": [
    "#Numpy for Numerical Analysis\n",
    "#Pandas for DataFrames and Series\n",
    "#Matplotlib for Data Visualisation\n",
    "#Yfinance for Dataset Download\n",
    "\n",
    "import numpy as np\n",
    "import pandas as pd\n",
    "import matplotlib.pyplot as plt\n",
    "import yfinance as yf\n",
    "import scipy.stats as si"
   ]
  },
  {
   "cell_type": "markdown",
   "metadata": {},
   "source": [
    "<h5>Considering Amazon.com Inc. Stock Data from the S&amp;P 500 Index<h5>"
   ]
  },
  {
   "cell_type": "code",
   "execution_count": 2,
   "metadata": {},
   "outputs": [
    {
     "name": "stdout",
     "output_type": "stream",
     "text": [
      "[*********************100%***********************]  1 of 1 completed\n"
     ]
    }
   ],
   "source": [
    "#Downloading Stock Data from Yahoo Finance with yfinance\n",
    "DATA = yf.download(\"AMZN\", start=\"2020-01-01\", end=\"2020-10-31\")"
   ]
  },
  {
   "cell_type": "code",
   "execution_count": 3,
   "metadata": {},
   "outputs": [
    {
     "data": {
      "text/html": [
       "<div>\n",
       "<style scoped>\n",
       "    .dataframe tbody tr th:only-of-type {\n",
       "        vertical-align: middle;\n",
       "    }\n",
       "\n",
       "    .dataframe tbody tr th {\n",
       "        vertical-align: top;\n",
       "    }\n",
       "\n",
       "    .dataframe thead th {\n",
       "        text-align: right;\n",
       "    }\n",
       "</style>\n",
       "<table border=\"1\" class=\"dataframe\">\n",
       "  <thead>\n",
       "    <tr style=\"text-align: right;\">\n",
       "      <th></th>\n",
       "      <th>Open</th>\n",
       "      <th>High</th>\n",
       "      <th>Low</th>\n",
       "      <th>Close</th>\n",
       "      <th>Adj Close</th>\n",
       "      <th>Volume</th>\n",
       "    </tr>\n",
       "  </thead>\n",
       "  <tbody>\n",
       "    <tr>\n",
       "      <th>count</th>\n",
       "      <td>212.000000</td>\n",
       "      <td>212.000000</td>\n",
       "      <td>212.000000</td>\n",
       "      <td>212.000000</td>\n",
       "      <td>212.000000</td>\n",
       "      <td>2.120000e+02</td>\n",
       "    </tr>\n",
       "    <tr>\n",
       "      <th>mean</th>\n",
       "      <td>2579.203259</td>\n",
       "      <td>2616.308677</td>\n",
       "      <td>2540.667452</td>\n",
       "      <td>2579.799619</td>\n",
       "      <td>2579.799619</td>\n",
       "      <td>5.102789e+06</td>\n",
       "    </tr>\n",
       "    <tr>\n",
       "      <th>std</th>\n",
       "      <td>553.313446</td>\n",
       "      <td>558.589270</td>\n",
       "      <td>539.393288</td>\n",
       "      <td>547.584980</td>\n",
       "      <td>547.584980</td>\n",
       "      <td>2.031808e+06</td>\n",
       "    </tr>\n",
       "    <tr>\n",
       "      <th>min</th>\n",
       "      <td>1641.510010</td>\n",
       "      <td>1759.449951</td>\n",
       "      <td>1626.030029</td>\n",
       "      <td>1676.609985</td>\n",
       "      <td>1676.609985</td>\n",
       "      <td>2.088000e+06</td>\n",
       "    </tr>\n",
       "    <tr>\n",
       "      <th>25%</th>\n",
       "      <td>2020.027496</td>\n",
       "      <td>2042.825012</td>\n",
       "      <td>1999.592499</td>\n",
       "      <td>2009.147522</td>\n",
       "      <td>2009.147522</td>\n",
       "      <td>3.583175e+06</td>\n",
       "    </tr>\n",
       "    <tr>\n",
       "      <th>50%</th>\n",
       "      <td>2472.719971</td>\n",
       "      <td>2494.329956</td>\n",
       "      <td>2447.660034</td>\n",
       "      <td>2476.199951</td>\n",
       "      <td>2476.199951</td>\n",
       "      <td>4.721250e+06</td>\n",
       "    </tr>\n",
       "    <tr>\n",
       "      <th>75%</th>\n",
       "      <td>3144.460022</td>\n",
       "      <td>3184.809998</td>\n",
       "      <td>3101.262451</td>\n",
       "      <td>3138.425049</td>\n",
       "      <td>3138.425049</td>\n",
       "      <td>6.100125e+06</td>\n",
       "    </tr>\n",
       "    <tr>\n",
       "      <th>max</th>\n",
       "      <td>3547.000000</td>\n",
       "      <td>3552.250000</td>\n",
       "      <td>3486.689941</td>\n",
       "      <td>3531.449951</td>\n",
       "      <td>3531.449951</td>\n",
       "      <td>1.556730e+07</td>\n",
       "    </tr>\n",
       "  </tbody>\n",
       "</table>\n",
       "</div>"
      ],
      "text/plain": [
       "              Open         High          Low        Close    Adj Close  \\\n",
       "count   212.000000   212.000000   212.000000   212.000000   212.000000   \n",
       "mean   2579.203259  2616.308677  2540.667452  2579.799619  2579.799619   \n",
       "std     553.313446   558.589270   539.393288   547.584980   547.584980   \n",
       "min    1641.510010  1759.449951  1626.030029  1676.609985  1676.609985   \n",
       "25%    2020.027496  2042.825012  1999.592499  2009.147522  2009.147522   \n",
       "50%    2472.719971  2494.329956  2447.660034  2476.199951  2476.199951   \n",
       "75%    3144.460022  3184.809998  3101.262451  3138.425049  3138.425049   \n",
       "max    3547.000000  3552.250000  3486.689941  3531.449951  3531.449951   \n",
       "\n",
       "             Volume  \n",
       "count  2.120000e+02  \n",
       "mean   5.102789e+06  \n",
       "std    2.031808e+06  \n",
       "min    2.088000e+06  \n",
       "25%    3.583175e+06  \n",
       "50%    4.721250e+06  \n",
       "75%    6.100125e+06  \n",
       "max    1.556730e+07  "
      ]
     },
     "execution_count": 3,
     "metadata": {},
     "output_type": "execute_result"
    }
   ],
   "source": [
    "#Summary Statistics\n",
    "#Describing data with pandas\n",
    "DATA.describe()"
   ]
  },
  {
   "cell_type": "code",
   "execution_count": 4,
   "metadata": {},
   "outputs": [
    {
     "data": {
      "text/html": [
       "<div>\n",
       "<style scoped>\n",
       "    .dataframe tbody tr th:only-of-type {\n",
       "        vertical-align: middle;\n",
       "    }\n",
       "\n",
       "    .dataframe tbody tr th {\n",
       "        vertical-align: top;\n",
       "    }\n",
       "\n",
       "    .dataframe thead th {\n",
       "        text-align: right;\n",
       "    }\n",
       "</style>\n",
       "<table border=\"1\" class=\"dataframe\">\n",
       "  <thead>\n",
       "    <tr style=\"text-align: right;\">\n",
       "      <th></th>\n",
       "      <th>Open</th>\n",
       "      <th>High</th>\n",
       "      <th>Low</th>\n",
       "      <th>Close</th>\n",
       "      <th>Adj Close</th>\n",
       "      <th>Volume</th>\n",
       "    </tr>\n",
       "    <tr>\n",
       "      <th>Date</th>\n",
       "      <th></th>\n",
       "      <th></th>\n",
       "      <th></th>\n",
       "      <th></th>\n",
       "      <th></th>\n",
       "      <th></th>\n",
       "    </tr>\n",
       "  </thead>\n",
       "  <tbody>\n",
       "    <tr>\n",
       "      <th>2019-12-31</th>\n",
       "      <td>1842.0</td>\n",
       "      <td>1853.260010</td>\n",
       "      <td>1832.229980</td>\n",
       "      <td>1847.839966</td>\n",
       "      <td>1847.839966</td>\n",
       "      <td>2506500</td>\n",
       "    </tr>\n",
       "    <tr>\n",
       "      <th>2020-01-02</th>\n",
       "      <td>1875.0</td>\n",
       "      <td>1898.010010</td>\n",
       "      <td>1864.150024</td>\n",
       "      <td>1898.010010</td>\n",
       "      <td>1898.010010</td>\n",
       "      <td>4029000</td>\n",
       "    </tr>\n",
       "    <tr>\n",
       "      <th>2020-01-03</th>\n",
       "      <td>1864.5</td>\n",
       "      <td>1886.199951</td>\n",
       "      <td>1864.500000</td>\n",
       "      <td>1874.969971</td>\n",
       "      <td>1874.969971</td>\n",
       "      <td>3764400</td>\n",
       "    </tr>\n",
       "    <tr>\n",
       "      <th>2020-01-06</th>\n",
       "      <td>1860.0</td>\n",
       "      <td>1903.689941</td>\n",
       "      <td>1860.000000</td>\n",
       "      <td>1902.880005</td>\n",
       "      <td>1902.880005</td>\n",
       "      <td>4061800</td>\n",
       "    </tr>\n",
       "    <tr>\n",
       "      <th>2020-01-07</th>\n",
       "      <td>1904.5</td>\n",
       "      <td>1913.890015</td>\n",
       "      <td>1892.040039</td>\n",
       "      <td>1906.859985</td>\n",
       "      <td>1906.859985</td>\n",
       "      <td>4044900</td>\n",
       "    </tr>\n",
       "  </tbody>\n",
       "</table>\n",
       "</div>"
      ],
      "text/plain": [
       "              Open         High          Low        Close    Adj Close  \\\n",
       "Date                                                                     \n",
       "2019-12-31  1842.0  1853.260010  1832.229980  1847.839966  1847.839966   \n",
       "2020-01-02  1875.0  1898.010010  1864.150024  1898.010010  1898.010010   \n",
       "2020-01-03  1864.5  1886.199951  1864.500000  1874.969971  1874.969971   \n",
       "2020-01-06  1860.0  1903.689941  1860.000000  1902.880005  1902.880005   \n",
       "2020-01-07  1904.5  1913.890015  1892.040039  1906.859985  1906.859985   \n",
       "\n",
       "             Volume  \n",
       "Date                 \n",
       "2019-12-31  2506500  \n",
       "2020-01-02  4029000  \n",
       "2020-01-03  3764400  \n",
       "2020-01-06  4061800  \n",
       "2020-01-07  4044900  "
      ]
     },
     "execution_count": 4,
     "metadata": {},
     "output_type": "execute_result"
    }
   ],
   "source": [
    "#Inspecting First Five Rows in Dataset\n",
    "DATA.head()"
   ]
  },
  {
   "cell_type": "code",
   "execution_count": 5,
   "metadata": {},
   "outputs": [
    {
     "name": "stdout",
     "output_type": "stream",
     "text": [
      "The Volatilty after 190 Trading Days is 34.78 %\n"
     ]
    }
   ],
   "source": [
    "#Calculating For Historical Volatility of Amazon.com Inc..\n",
    "#Considering 190 Trading Days between January and October 2020\n",
    "\n",
    "DATA['Log Return'] = np.log(DATA['Adj Close'] / DATA['Adj Close'].shift(1)) \n",
    "hist_vol = np.sqrt(190) * DATA['Log Return'].std()\n",
    "print('The Volatilty after 190 Trading Days is', round(hist_vol*100,2), '%')"
   ]
  },
  {
   "cell_type": "code",
   "execution_count": 6,
   "metadata": {},
   "outputs": [
    {
     "data": {
      "text/plain": [
       "array([<AxesSubplot:xlabel='Date'>], dtype=object)"
      ]
     },
     "execution_count": 6,
     "metadata": {},
     "output_type": "execute_result"
    },
    {
     "data": {
      "image/png": "[encoded data removed]",
      "text/plain": [
       "<Figure size 720x432 with 1 Axes>"
      ]
     },
     "metadata": {
      "needs_background": "light"
     },
     "output_type": "display_data"
    }
   ],
   "source": [
    "#Plot of Stock Movement with Matplotlib\n",
    "DATA['Adj Close'].plot(subplots=True, color='blue', figsize=(10, 6))"
   ]
  },
  {
   "cell_type": "markdown",
   "metadata": {},
   "source": [
    "<h3>Derivative and Pricing Value</h3>\n",
    "<h5>Using Black Scholes Model and Binomial Tree</h5>"
   ]
  },
  {
   "cell_type": "code",
   "execution_count": 8,
   "metadata": {},
   "outputs": [],
   "source": [
    "#Black Schole Model\n",
    "def Black_Scholes(S, K, T, r, q, vol, option):\n",
    "    d1 = (np.log(S / K) + (r - q + 0.5 * vol ** 2) * T) / (vol * np.sqrt(T))\n",
    "    d2 = (np.log(S / K) + (r - q - 0.5 * vol ** 2) * T) / (vol * np.sqrt(T))\n",
    "    if option == \"call\":\n",
    "        option_value = S * np.exp(-q * T) * si.norm.cdf(d1, 0.0, 1.0) - K * np.exp(-r * T) * si.norm.cdf(d2, 0.0, 1.0)\n",
    "    elif option == \"put\":\n",
    "        option_value =  - S * np.exp(-q * T) * si.norm.cdf(-d1, 0.0, 1.0) + K * np.exp(-r * T) * si.norm.cdf(-d2, 0.0, 1.0)\n",
    "    \n",
    "    return option_value"
   ]
  },
  {
   "cell_type": "code",
   "execution_count": 16,
   "metadata": {},
   "outputs": [],
   "source": [
    "S = np.linspace(50,150,11)\n",
    "Call = np.zeros((len(S),1))\n",
    "Put = np.zeros((len(S),1))\n",
    "for i in range(len(S)):\n",
    "    Call [i] = Black_Scholes(S[i], 100, 10.0/12.0, 0.06, 0.03, 0.34, 'call')\n",
    "    Put [i] = Black_Scholes(S[i], 100, 10.0/12.0, 0.06, 0.03, 0.34, 'put')"
   ]
  },
  {
   "cell_type": "code",
   "execution_count": 17,
   "metadata": {},
   "outputs": [
    {
     "data": {
      "text/plain": [
       "<matplotlib.legend.Legend at 0x198ac36beb0>"
      ]
     },
     "execution_count": 17,
     "metadata": {},
     "output_type": "execute_result"
    },
    {
     "data": {
      "image/png": "[encoded data removed]",
      "text/plain": [
       "<Figure size 432x288 with 1 Axes>"
      ]
     },
     "metadata": {
      "needs_background": "light"
     },
     "output_type": "display_data"
    }
   ],
   "source": [
    "fig = plt.figure()\n",
    "plt.plot(S, Call, '-')\n",
    "plt.plot(S, Put, '--')\n",
    "plt.grid()\n",
    "plt.xlabel('Stock Price')\n",
    "plt.ylabel('Option Price')\n",
    "plt.title('European Option')\n",
    "plt.legend(['Call','Put'])"
   ]
  },
  {
   "cell_type": "code",
   "execution_count": 11,
   "metadata": {},
   "outputs": [],
   "source": [
    "def Binomial(n, S, K, r, v, t, option):  \n",
    "    At = t/n \n",
    "    u = np.exp(v*np.sqrt(At))\n",
    "    d = 1./u\n",
    "    p = (np.exp(r*At)-d) / (u-d) \n",
    "\n",
    "    #Binomial price tree\n",
    "    stockvalue = np.zeros((n+1,n+1))\n",
    "    stockvalue[0,0] = S\n",
    "    for i in range(1,n+1):\n",
    "        stockvalue[i,0] = stockvalue[i-1,0]*u\n",
    "        for j in range(1,i+1):\n",
    "            stockvalue[i,j] = stockvalue[i-1,j-1]*d\n",
    "    \n",
    "    #option value at final node   \n",
    "    optionvalue = np.zeros((n+1,n+1))\n",
    "    for j in range(n+1):\n",
    "        if option==\"call\": # Call\n",
    "            optionvalue[n,j] = max(0, stockvalue[n,j]-K)\n",
    "        elif option==\"put\": #Put\n",
    "            optionvalue[n,j] = max(0, K-stockvalue[n,j])\n",
    "    \n",
    "    #backward calculation for option price    \n",
    "    for i in range(n-1,-1,-1):\n",
    "        for j in range(i+1):\n",
    "                if option==\"put\":\n",
    "                    optionvalue[i,j] = max(0, K-stockvalue[i,j], np.exp(-r*At)*(p*optionvalue[i+1,j]+(1-p)*optionvalue[i+1,j+1]))\n",
    "                elif option==\"call\":\n",
    "                    optionvalue[i,j] = max(0, stockvalue[i,j]-K, np.exp(-r*At)*(p*optionvalue[i+1,j]+(1-p)*optionvalue[i+1,j+1]))\n",
    "    return optionvalue[0,0]"
   ]
  },
  {
   "cell_type": "code",
   "execution_count": 18,
   "metadata": {},
   "outputs": [],
   "source": [
    "n = 3\n",
    "S = np.linspace(50,150,11)\n",
    "r = 0.06\n",
    "K = 1\n",
    "v = 0.34\n",
    "t = 10.0 / 12.0"
   ]
  },
  {
   "cell_type": "code",
   "execution_count": 19,
   "metadata": {},
   "outputs": [],
   "source": [
    "Call = np.zeros((len(S),1))\n",
    "Put = np.zeros((len(S),1))\n",
    "for i in range(len(S)):\n",
    "    Call [i] = Binomial(n, S[i], K, r, v, t, option=\"call\")\n",
    "    Put [i] = Binomial(n, S[i], K, r, v, t, option=\"call\")"
   ]
  },
  {
   "cell_type": "code",
   "execution_count": 20,
   "metadata": {},
   "outputs": [
    {
     "data": {
      "text/plain": [
       "<matplotlib.legend.Legend at 0x198ac4558e0>"
      ]
     },
     "execution_count": 20,
     "metadata": {},
     "output_type": "execute_result"
    },
    {
     "data": {
      "image/png": "[encoded data removed]",
      "text/plain": [
       "<Figure size 432x288 with 1 Axes>"
      ]
     },
     "metadata": {
      "needs_background": "light"
     },
     "output_type": "display_data"
    }
   ],
   "source": [
    "fig = plt.figure()\n",
    "plt.plot(S, Call, '-')\n",
    "plt.plot(S, Put, '--')\n",
    "plt.grid()\n",
    "plt.xlabel('Stock Price')\n",
    "plt.ylabel('Option Price')\n",
    "plt.title('American Option')\n",
    "plt.legend(['Call','Put'])"
   ]
  },
  {
   "cell_type": "markdown",
   "metadata": {},
   "source": [
    "<h4>Calculating Greeks</h4>"
   ]
  },
  {
   "cell_type": "code",
   "execution_count": 15,
   "metadata": {},
   "outputs": [],
   "source": [
    "#DELTA\n",
    "def delta(S, K, T, r, q, vol, option):\n",
    "    d1 = (np.log(S / K) + (r - q + 0.5 * vol ** 2) * T) / (vol * np.sqrt(T))\n",
    "    if option == \"call\":\n",
    "        delta = np.exp(-q * T) * si.norm.cdf(d1, 0.0, 1.0)\n",
    "    elif option == \"put\":\n",
    "        delta = - np.exp(-q * T) * si.norm.cdf(-d1, 0.0, 1.0)\n",
    "    return delta"
   ]
  },
  {
   "cell_type": "code",
   "execution_count": null,
   "metadata": {},
   "outputs": [],
   "source": [
    "delta(100, 100, 10.0/12.0, 0.06, 0.03, 0.34, 'call')"
   ]
  },
  {
   "cell_type": "code",
   "execution_count": 21,
   "metadata": {},
   "outputs": [
    {
     "data": {
      "text/plain": [
       "-0.4069660854302571"
      ]
     },
     "execution_count": 21,
     "metadata": {},
     "output_type": "execute_result"
    }
   ],
   "source": [
    "delta(100, 100, 10.0/12.0, 0.05, 0.03, 0.34, 'put')"
   ]
  },
  {
   "cell_type": "code",
   "execution_count": 23,
   "metadata": {},
   "outputs": [],
   "source": [
    "#GAMMA\n",
    "\n",
    "def gamma(S, K, T, r, q, vol): \n",
    "    d1 = (np.log(S / K) + (r - q + 0.5 * vol ** 2) * T) / (vol * np.sqrt(T))\n",
    "    gamma = np.exp(-r * T) * si.norm.pdf(d1, 0.0, 1.0) / (vol * S * T)\n",
    "    \n",
    "    return gamma"
   ]
  },
  {
   "cell_type": "code",
   "execution_count": 24,
   "metadata": {},
   "outputs": [
    {
     "data": {
      "text/plain": [
       "0.014863795455492166"
      ]
     },
     "execution_count": 24,
     "metadata": {},
     "output_type": "execute_result"
    }
   ],
   "source": [
    "gamma(100, 100, 1, 0.05, 0.03, 0.25)"
   ]
  },
  {
   "cell_type": "code",
   "execution_count": 25,
   "metadata": {},
   "outputs": [],
   "source": [
    "#RHO\n",
    "\n",
    "def rho(S, K, T, r, q, vol, option):\n",
    "    \n",
    "    d1 = (np.log(S / K) + (r - q + 0.5 * vol ** 2) * T) / (vol * np.sqrt(T))\n",
    "    d2 = (np.log(S / K) + (r - q - 0.5 * vol ** 2) * T) / (vol * np.sqrt(T))\n",
    "    if option == \"call\":\n",
    "        rho =  K * T * np.exp(-r * T) * si.norm.cdf(d2, 0.0, 1.0)\n",
    "    elif option == \"put\":\n",
    "        rho = - K * T * np.exp(-r * T) * si.norm.cdf(-d2, 0.0, 1.0)\n",
    "    \n",
    "    return rho"
   ]
  },
  {
   "cell_type": "code",
   "execution_count": 26,
   "metadata": {},
   "outputs": [
    {
     "data": {
      "text/plain": [
       "37.276328904381955"
      ]
     },
     "execution_count": 26,
     "metadata": {},
     "output_type": "execute_result"
    }
   ],
   "source": [
    "rho(100, 100, 10.0/12.0, 0.06, 0.03, 0.34, 'call')"
   ]
  },
  {
   "cell_type": "code",
   "execution_count": 27,
   "metadata": {},
   "outputs": [
    {
     "data": {
      "text/plain": [
       "-41.99278980401088"
      ]
     },
     "execution_count": 27,
     "metadata": {},
     "output_type": "execute_result"
    }
   ],
   "source": [
    "rho(100, 100, 10.0/12.0, 0.06, 0.03, 0.34, 'put')"
   ]
  },
  {
   "cell_type": "code",
   "execution_count": 29,
   "metadata": {},
   "outputs": [],
   "source": [
    "#VEGA\n",
    "\n",
    "def vega(S, K, T, r, q, vol):\n",
    "    \n",
    "    d1 = (np.log(S / K) + (r - q + 0.5 * vol ** 2) * T) / (vol * np.sqrt(T))\n",
    "    vega = S * np.sqrt(T) * np.exp(-q * T) * si.norm.pdf(d1, 0.0, 1.0)\n",
    "    \n",
    "    return vega"
   ]
  },
  {
   "cell_type": "code",
   "execution_count": 30,
   "metadata": {},
   "outputs": [
    {
     "data": {
      "text/plain": [
       "34.54577523796066"
      ]
     },
     "execution_count": 30,
     "metadata": {},
     "output_type": "execute_result"
    }
   ],
   "source": [
    "vega(100, 100, 10.0/12.0, 0.06, 0.03, 0.34)"
   ]
  },
  {
   "cell_type": "code",
   "execution_count": 31,
   "metadata": {},
   "outputs": [],
   "source": [
    "#THETA\n",
    "\n",
    "def theta(S, K, T, r, q, vol, option):\n",
    "    \n",
    "    d1 = (np.log(S / K) + (r - q + 0.5 * vol ** 2) * T) / (vol * np.sqrt(T))\n",
    "    d2 = (np.log(S / K) + (r - q - 0.5 * vol ** 2) * T) / (vol * np.sqrt(T))\n",
    "    if option == \"call\":\n",
    "        theta = vol * S * np.exp(-q * T) * si.norm.pdf(d1, 0.0, 1.0) / (2 * np.sqrt(T)) - q * S * np.exp(-q * T) * si.norm.cdf(d1, 0.0, 1.0) + r * K * np.exp(-r * T) * si.norm.cdf(d2, 0.0, 1.0)\n",
    "    elif option == \"put\":\n",
    "        theta = vol * S * np.exp(-q * T) * si.norm.pdf(-d1, 0.0, 1.0) / (2 * np.sqrt(T)) - q * S * np.exp(-q * T) * si.norm.cdf(-d1, 0.0, 1.0) + r * K * np.exp(-r * T) * si.norm.cdf(-d2, 0.0, 1.0)\n",
    "    \n",
    "    return theta"
   ]
  },
  {
   "cell_type": "code",
   "execution_count": 32,
   "metadata": {},
   "outputs": [
    {
     "data": {
      "text/plain": [
       "7.995627795478418"
      ]
     },
     "execution_count": 32,
     "metadata": {},
     "output_type": "execute_result"
    }
   ],
   "source": [
    "theta(100, 100, 10.0/12.0, 0.06, 0.03, 0.34, 'call')"
   ]
  },
  {
   "cell_type": "code",
   "execution_count": 34,
   "metadata": {},
   "outputs": [
    {
     "data": {
      "text/plain": [
       "8.880495312528815"
      ]
     },
     "execution_count": 34,
     "metadata": {},
     "output_type": "execute_result"
    }
   ],
   "source": [
    "theta(100, 100, 10.0/12.0, 0.06, 0.03, 0.34, 'put')"
   ]
  },
  {
   "cell_type": "code",
   "execution_count": null,
   "metadata": {},
   "outputs": [],
   "source": []
  }
 ],
 "metadata": {
  "kernelspec": {
   "display_name": "Python 3",
   "language": "python",
   "name": "python3"
  },
  "language_info": {
   "codemirror_mode": {
    "name": "ipython",
    "version": 3
   },
   "file_extension": ".py",
   "mimetype": "text/x-python",
   "name": "python",
   "nbconvert_exporter": "python",
   "pygments_lexer": "ipython3",
   "version": "3.8.3"
  }
 },
 "nbformat": 4,
 "nbformat_minor": 4
}
